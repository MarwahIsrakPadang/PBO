{
  "nbformat": 4,
  "nbformat_minor": 0,
  "metadata": {
    "colab": {
      "provenance": [],
      "authorship_tag": "ABX9TyNDLUq4uouBC6im8KiAtS8J",
      "include_colab_link": true
    },
    "kernelspec": {
      "name": "python3",
      "display_name": "Python 3"
    },
    "language_info": {
      "name": "python"
    }
  },
  "cells": [
    {
      "cell_type": "markdown",
      "metadata": {
        "id": "view-in-github",
        "colab_type": "text"
      },
      "source": [
        "<a href=\"https://colab.research.google.com/github/MarwahIsrakPadang/PBO/blob/main/Sesi3.ipynb\" target=\"_parent\"><img src=\"https://colab.research.google.com/assets/colab-badge.svg\" alt=\"Open In Colab\"/></a>"
      ]
    },
    {
      "cell_type": "markdown",
      "source": [
        "Contoh sederhana perulangan for"
      ],
      "metadata": {
        "id": "2OKpqm88T-_h"
      }
    },
    {
      "cell_type": "code",
      "source": [
        "# Deklarasi variabel contoh dan 10 itu sebagai tanda 10 kali perulangan\n",
        "contoh = 10\n",
        "\n",
        "# Variabel i berfungsi untuk menampung indeks,\n",
        "# dan fungsi range() berfungsi untuk membuat list dari 0-10.\n",
        "for i in range(contoh):\n",
        "    print (\"Perulangan ke-\" +str(i))\n",
        "\n",
        "\n",
        "# Menampilkan range dari kumpulan deret tertentu\n",
        "# range(5,10) akan membuat deret angka mulai dari 5, 6, 7, 8, dan 9.\n",
        "\n",
        "for i in range(5,10):\n",
        "  print(i)"
      ],
      "metadata": {
        "colab": {
          "base_uri": "https://localhost:8080/"
        },
        "id": "EgFuutSjTvGB",
        "outputId": "b0e629cc-8f6c-4635-9dee-89f46c8c62ab"
      },
      "execution_count": 1,
      "outputs": [
        {
          "output_type": "stream",
          "name": "stdout",
          "text": [
            "Perulangan ke-0\n",
            "Perulangan ke-1\n",
            "Perulangan ke-2\n",
            "Perulangan ke-3\n",
            "Perulangan ke-4\n",
            "Perulangan ke-5\n",
            "Perulangan ke-6\n",
            "Perulangan ke-7\n",
            "Perulangan ke-8\n",
            "Perulangan ke-9\n",
            "5\n",
            "6\n",
            "7\n",
            "8\n",
            "9\n"
          ]
        }
      ]
    },
    {
      "cell_type": "markdown",
      "source": [
        "Contoh menampilkan isi dalam body perulangan"
      ],
      "metadata": {
        "id": "dxOZGfJlUN2j"
      }
    },
    {
      "cell_type": "code",
      "source": [
        "# Deklarasi variabel contoh2 dengan tipe list\n",
        "contoh2 = ['saya','suka','minum','kopi', 'gayo']\n",
        "\n",
        "for isi in contoh2:\n",
        "    print (isi)"
      ],
      "metadata": {
        "colab": {
          "base_uri": "https://localhost:8080/"
        },
        "id": "-uZLFa2GUPYV",
        "outputId": "33aadd46-7c42-4d3a-9bbd-910f05adf8b0"
      },
      "execution_count": 2,
      "outputs": [
        {
          "output_type": "stream",
          "name": "stdout",
          "text": [
            "saya\n",
            "suka\n",
            "minum\n",
            "kopi\n",
            "gayo\n"
          ]
        }
      ]
    },
    {
      "cell_type": "markdown",
      "source": [
        "Contoh menggunakan while"
      ],
      "metadata": {
        "id": "RrFd_AjtUTyv"
      }
    },
    {
      "cell_type": "markdown",
      "source": [
        "Program Menghitung Harga Tiket Masuk"
      ],
      "metadata": {
        "id": "j0N01gW_UleJ"
      }
    },
    {
      "cell_type": "code",
      "source": [
        "##\n",
        "# Program menghitung Faktor Persekutuan Terbesa\n",
        "#\n",
        "\n",
        "# Membaca dua bilangan positif dari user\n",
        "n = int(input(\"Masukkan bilangan positif:\"))\n",
        "m = int(input(\"Masukkan bilangan positif:\"))\n",
        "\n",
        "# Inisialisasi variabel untuk nilai terkecil dari n dan m\n",
        "d = min(n, m)\n",
        "\n",
        "# Gunakan loop while untuk mencari FPT\n",
        "while n % d != 0 or m % d != 0:\n",
        "  d = d - 1\n",
        "\n",
        "# Menampilkan hasil\n",
        "print(\"Faktor persekutuan terbesar dari\", n, \"dan\", m, \" adalah\", d);"
      ],
      "metadata": {
        "colab": {
          "base_uri": "https://localhost:8080/"
        },
        "id": "Y_NpQ_wOUotP",
        "outputId": "69c4efe1-7d62-4c1e-ecf6-43802f026f0c"
      },
      "execution_count": 4,
      "outputs": [
        {
          "output_type": "stream",
          "name": "stdout",
          "text": [
            "Masukkan bilangan positif:3\n",
            "Masukkan bilangan positif:7\n",
            "Faktor persekutuan terbesar dari 3 dan 7  adalah 1\n"
          ]
        }
      ]
    },
    {
      "cell_type": "markdown",
      "source": [
        "Program Mencari Nilai Maksimum dari 100 bilangan bulat"
      ],
      "metadata": {
        "id": "N9Krx45QVQhe"
      }
    },
    {
      "cell_type": "code",
      "source": [
        "##\n",
        "# Menentukan nilai maksimum 100 bilangan bulat, menghitung berapa kali\n",
        "# perulangan\n",
        "\n",
        "from random import randrange\n",
        "\n",
        "BIL_ITEMS = 100\n",
        "\n",
        "# Generate the first number and menampilkan nya\n",
        "maks_nilai = randrange(1, BIL_ITEMS + 1)\n",
        "print(maks_nilai)\n",
        "\n",
        "# Menghitung berapa kali perubahan\n",
        "bil_update = 0\n",
        "\n",
        "# Untuk setiap bilangan\n",
        "for i in range(1, BIL_ITEMS):\n",
        "  # Generate bilangan acak\n",
        "  current = randrange(1, BIL_ITEMS + 1)\n",
        "\n",
        "  # Kondisi jika ditemukan bilangan terbesar\n",
        "  if current > maks_nilai:\n",
        "    # Update nilai maksimum dan hitung perubahan\n",
        "    maks_nilai = current\n",
        "    bil_update = bil_update + 1\n",
        "    # Tampilkan bilangan jika masih ada proses update\n",
        "    print(current, \"<== Update\")\n",
        "  else:\n",
        "    #Tampilkan bilangan\n",
        "    print(current)\n",
        "\n",
        "# Tampilkan Hasil Terakhir\n",
        "print(\" Nilai maksimum yang ditemukan adalah\", maks_nilai)\n",
        "print(\"Nilai maksimum yang di-update\", bil_update, \"kali\")"
      ],
      "metadata": {
        "colab": {
          "base_uri": "https://localhost:8080/"
        },
        "id": "nIt3NyndVTKX",
        "outputId": "dbf30c9f-ecb2-4fb7-f925-da12320e259b"
      },
      "execution_count": 5,
      "outputs": [
        {
          "output_type": "stream",
          "name": "stdout",
          "text": [
            "55\n",
            "66 <== Update\n",
            "34\n",
            "68 <== Update\n",
            "83 <== Update\n",
            "58\n",
            "79\n",
            "53\n",
            "96 <== Update\n",
            "20\n",
            "10\n",
            "26\n",
            "30\n",
            "3\n",
            "14\n",
            "57\n",
            "6\n",
            "80\n",
            "36\n",
            "15\n",
            "29\n",
            "99 <== Update\n",
            "41\n",
            "21\n",
            "61\n",
            "30\n",
            "36\n",
            "39\n",
            "51\n",
            "11\n",
            "82\n",
            "69\n",
            "34\n",
            "61\n",
            "33\n",
            "92\n",
            "66\n",
            "69\n",
            "77\n",
            "98\n",
            "33\n",
            "94\n",
            "6\n",
            "19\n",
            "85\n",
            "50\n",
            "54\n",
            "28\n",
            "71\n",
            "44\n",
            "18\n",
            "55\n",
            "6\n",
            "62\n",
            "71\n",
            "67\n",
            "56\n",
            "16\n",
            "81\n",
            "33\n",
            "37\n",
            "50\n",
            "77\n",
            "86\n",
            "86\n",
            "81\n",
            "36\n",
            "63\n",
            "10\n",
            "43\n",
            "69\n",
            "50\n",
            "25\n",
            "65\n",
            "76\n",
            "88\n",
            "74\n",
            "53\n",
            "96\n",
            "85\n",
            "55\n",
            "88\n",
            "67\n",
            "92\n",
            "13\n",
            "97\n",
            "61\n",
            "37\n",
            "59\n",
            "72\n",
            "67\n",
            "13\n",
            "2\n",
            "51\n",
            "84\n",
            "30\n",
            "9\n",
            "14\n",
            "85\n",
            "1\n",
            " Nilai maksimum yang ditemukan adalah 99\n",
            "Nilai maksimum yang di-update 5 kali\n"
          ]
        }
      ]
    }
  ]
}